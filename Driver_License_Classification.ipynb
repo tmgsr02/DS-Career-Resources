{
  "nbformat": 4,
  "nbformat_minor": 0,
  "metadata": {
    "colab": {
      "provenance": [],
      "include_colab_link": true
    },
    "kernelspec": {
      "name": "python3",
      "display_name": "Python 3"
    },
    "language_info": {
      "name": "python"
    }
  },
  "cells": [
    {
      "cell_type": "markdown",
      "metadata": {
        "id": "view-in-github",
        "colab_type": "text"
      },
      "source": [
        "<a href=\"https://colab.research.google.com/github/tmgsr02/DS-Career-Resources/blob/master/Driver_License_Classification.ipynb\" target=\"_parent\"><img src=\"https://colab.research.google.com/assets/colab-badge.svg\" alt=\"Open In Colab\"/></a>"
      ]
    },
    {
      "cell_type": "code",
      "source": [
        "!pip install -q tensorlake"
      ],
      "metadata": {
        "id": "BMGClp0Qm8jN"
      },
      "execution_count": null,
      "outputs": []
    },
    {
      "cell_type": "code",
      "execution_count": null,
      "metadata": {
        "id": "Vq6rJN25mmNf"
      },
      "outputs": [],
      "source": [
        "import time\n",
        "import json\n",
        "from tensorlake.documentai import DocumentAI\n",
        "from tensorlake.documentai.models import (\n",
        "    ParseStatus, ParsingOptions, StructuredExtractionOptions, PageClassConfig,\n",
        "    PartitionStrategy\n",
        ")\n",
        "from pydantic import BaseModel, Field\n",
        "from typing import List\n",
        "\n",
        "\n",
        "from google.colab import userdata\n",
        "TENSORLAKE_API_KEY = userdata.get('TENSORLAKE_API_KEY')\n",
        "\n",
        "\n",
        "DRIVER_LICENSES = [\n",
        "    \"https://m.media-amazon.com/images/I/61k+xMg3I7L._AC_SL1500_.jpg\",\n",
        "    \"https://www.desertdefenders.com/wp-content/uploads/2021/09/california-drivers-license-600x379.jpg\",\n",
        "    \"https://m.media-amazon.com/images/I/71i8mAqykvL._AC_SL1500_.jpg\",\n",
        "    \"https://s3.amazonaws.com/www.ml.school/archive/sample.pdf\"\n",
        "]"
      ]
    },
    {
      "cell_type": "markdown",
      "source": [
        "# Defining the schema\n",
        "\n",
        "Ler's create Pydantic schema for extracting the data from a Driver's License."
      ],
      "metadata": {
        "id": "uJBVg3DKnD-Z"
      }
    },
    {
      "cell_type": "code",
      "source": [
        "class DriverLicense(BaseModel):\n",
        "    id: str = Field(description=\"Driver's License number. It could be next to a DL field.\")\n",
        "    first_name: str = Field(description=\"First name of the Driver's License holder.\")\n",
        "    last_name: str = Field(description=\"Last name of the Driver's License holder.\")\n",
        "    address: str = Field(description=\"Address of the Driver's License holder\")\n",
        "    dob: str = Field(description=\"Date of birth of the Driver's License holder\")"
      ],
      "metadata": {
        "id": "rxiFGrzrmrpK"
      },
      "execution_count": null,
      "outputs": []
    },
    {
      "cell_type": "markdown",
      "source": [
        "# Defining page classifications"
      ],
      "metadata": {
        "id": "nqHWMD_HnIJu"
      }
    },
    {
      "cell_type": "code",
      "source": [
        "page_classifications = [\n",
        "    PageClassConfig(\n",
        "        name=\"Front_of_Drivers_License\",\n",
        "        description=\"Pages that have a photo of a person.\"\n",
        "    ),\n",
        "    PageClassConfig(\n",
        "        name=\"Back_of_Drivers_License\",\n",
        "        description=\"Pages that have a barcode.\"\n",
        "    ),\n",
        "]"
      ],
      "metadata": {
        "id": "B2FVqv57msoE"
      },
      "execution_count": null,
      "outputs": []
    },
    {
      "cell_type": "markdown",
      "source": [
        "# Defining extraction options"
      ],
      "metadata": {
        "id": "Vf_qoM4XnKj-"
      }
    },
    {
      "cell_type": "code",
      "source": [
        "structured_extraction_options = [\n",
        "    StructuredExtractionOptions(\n",
        "        schema_name=\"DriverLicense\",\n",
        "        partition_strategy=PartitionStrategy.PAGE,\n",
        "        json_schema=DriverLicense.model_json_schema(),\n",
        "        page_classes=[\"Front_of_Drivers_License\"]\n",
        "    )\n",
        "]"
      ],
      "metadata": {
        "id": "tN9251i-mw-t"
      },
      "execution_count": null,
      "outputs": []
    },
    {
      "cell_type": "markdown",
      "source": [
        "# Parsing the documents"
      ],
      "metadata": {
        "id": "dQyLmwSdnQ4C"
      }
    },
    {
      "cell_type": "code",
      "source": [
        "def print_results(result):\n",
        "    print(\"\\n*************************************\")\n",
        "    print(\"Page Classifications:\")\n",
        "    for page_classification in result.page_classes:\n",
        "        print(f\"* {page_classification.page_class}: {page_classification.page_numbers}\")\n",
        "\n",
        "    for structured_data in result.structured_data:\n",
        "        print(f\"\\n[{structured_data.schema_name}]\")\n",
        "        data = structured_data.data\n",
        "        print(json.dumps(data, indent=2, ensure_ascii=False))\n",
        "    print(\"*************************************\\n\")"
      ],
      "metadata": {
        "id": "PASyuLJHm2m3"
      },
      "execution_count": null,
      "outputs": []
    },
    {
      "cell_type": "markdown",
      "source": [
        "Let's now go through the list of files and process them one by one."
      ],
      "metadata": {
        "id": "LAuPzAvbM0yV"
      }
    },
    {
      "cell_type": "code",
      "source": [
        "doc_ai = DocumentAI(api_key=TENSORLAKE_API_KEY)\n",
        "\n",
        "for file in DRIVER_LICENSES:\n",
        "    parse_id = doc_ai.parse(\n",
        "        file=file,\n",
        "        page_classifications=page_classifications,\n",
        "        structured_extraction_options=structured_extraction_options\n",
        "    )\n",
        "\n",
        "    print(f\"Parse job submitted with ID: {parse_id}\")\n",
        "\n",
        "    result = doc_ai.get_parsed_result(parse_id=parse_id)\n",
        "\n",
        "    while result.status in [ParseStatus.PENDING, ParseStatus.PROCESSING]:\n",
        "        time.sleep(5)\n",
        "        result = doc_ai.get_parsed_result(parse_id=parse_id)\n",
        "        print(f\"Status: {result.status.name}\")\n",
        "\n",
        "    if result.status == ParseStatus.FAILURE :\n",
        "        print(f\"Parse job {parse_id} failed.\")\n",
        "        continue\n",
        "\n",
        "    print_results(result)"
      ],
      "metadata": {
        "colab": {
          "base_uri": "https://localhost:8080/"
        },
        "id": "We13yd5OMa-o",
        "outputId": "ba6c7d0b-a4f5-4220-cc30-e99064966249"
      },
      "execution_count": null,
      "outputs": [
        {
          "output_type": "stream",
          "name": "stdout",
          "text": [
            "Parse job submitted with ID: parse_fbP87dd6pqNPPBWnRMbFD\n",
            "Status: PROCESSING\n",
            "Status: PROCESSING\n",
            "Status: SUCCESSFUL\n",
            "\n",
            "*************************************\n",
            "Page Classifications:\n",
            "* Front_of_Drivers_License: [1]\n",
            "\n",
            "[DriverLicense]\n",
            "{\n",
            "  \"address\": \"892 MOMONA ST HONOLULU, HI 96820\",\n",
            "  \"dob\": \"06/03/1981\",\n",
            "  \"first_name\": null,\n",
            "  \"id\": \"01-47-87441\",\n",
            "  \"last_name\": \"McLOVIN\"\n",
            "}\n",
            "*************************************\n",
            "\n",
            "Parse job submitted with ID: parse_tt6KLTDnB6NNfPMJT7BNP\n",
            "Status: PROCESSING\n",
            "Status: SUCCESSFUL\n",
            "\n",
            "*************************************\n",
            "Page Classifications:\n",
            "* Front_of_Drivers_License: [1]\n",
            "\n",
            "[DriverLicense]\n",
            "{\n",
            "  \"address\": \"2244 2ND AVE SAN DIEGO, CA 92101\",\n",
            "  \"dob\": \"01/01/1997\",\n",
            "  \"first_name\": \"JUDY JANE\",\n",
            "  \"id\": \"G1111111\",\n",
            "  \"last_name\": \"DOE\"\n",
            "}\n",
            "*************************************\n",
            "\n",
            "Parse job submitted with ID: parse_MppCjMHKKHMbKpC6hKHgJ\n",
            "Status: PROCESSING\n",
            "Status: SUCCESSFUL\n",
            "\n",
            "*************************************\n",
            "Page Classifications:\n",
            "* Front_of_Drivers_License: [1]\n",
            "\n",
            "[DriverLicense]\n",
            "{\n",
            "  \"address\": \"19830 Wilshire Blvd. Beverly Hills, CA 90212\",\n",
            "  \"dob\": \"09-02-1964\",\n",
            "  \"first_name\": \"Keanu\",\n",
            "  \"id\": \"K243F5\",\n",
            "  \"last_name\": \"Reeves\"\n",
            "}\n",
            "*************************************\n",
            "\n",
            "Parse job submitted with ID: parse_CWjpKLpjpczdmTpzMhCCk\n",
            "Status: PROCESSING\n",
            "Status: PROCESSING\n",
            "Status: PROCESSING\n",
            "Status: SUCCESSFUL\n",
            "\n",
            "*************************************\n",
            "Page Classifications:\n",
            "* Front_of_Drivers_License: [1, 3]\n",
            "* Back_of_Drivers_License: [2]\n",
            "\n",
            "[DriverLicense]\n",
            "{\n",
            "  \"address\": \"123 SAMPLE ST JEFFERSON CITY, MO 65105\",\n",
            "  \"dob\": \"02/14/1979\",\n",
            "  \"first_name\": \"SAMANTHA\",\n",
            "  \"id\": \"T123456789\",\n",
            "  \"last_name\": \"SAMPLE\"\n",
            "}\n",
            "\n",
            "[DriverLicense]\n",
            "{\n",
            "  \"address\": \"456 Bloomington Ave, Minneapolis, MN 55417-1234\",\n",
            "  \"dob\": \"08/15/1977\",\n",
            "  \"first_name\": \"Avery\",\n",
            "  \"id\": \"A123-456-789-123\",\n",
            "  \"last_name\": \"Sample\"\n",
            "}\n",
            "*************************************\n",
            "\n"
          ]
        }
      ]
    },
    {
      "cell_type": "code",
      "source": [],
      "metadata": {
        "id": "QW6P-k6zBjAP"
      },
      "execution_count": null,
      "outputs": []
    }
  ]
}